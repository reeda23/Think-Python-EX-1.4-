{
 "cells": [
  {
   "cell_type": "markdown",
   "metadata": {},
   "source": [
    "## If you run a 10 kilometer race in 43 minutes 30 seconds, what is your average time(seconds) per mile? What is your average speed in miles per hour? (Hint: there are 1.61 kilometers in a mile)."
   ]
  },
  {
   "cell_type": "code",
   "execution_count": 2,
   "metadata": {},
   "outputs": [],
   "source": [
    "distance_in_km = 10\n",
    "distance_in_miles = distance_in_km / 1.6\n",
    "\n",
    "time_in_seconds = ((43*60) + 30)\n",
    "time_in_hours = (43.5 / 60)\n",
    "\n",
    "def avg_time_per_mile(distance_in_miles, time_in_seconds):\n",
    "    print(time_in_seconds / distance_in_miles)\n",
    "\n",
    "def avg_speed_miles_per_hour(distance_in_miles, time_in_hours):\n",
    "    print(distance_in_miles/time_in_hours)\n"
   ]
  },
  {
   "cell_type": "code",
   "execution_count": 4,
   "metadata": {},
   "outputs": [
    {
     "name": "stdout",
     "output_type": "stream",
     "text": [
      "8.620689655172415\n"
     ]
    }
   ],
   "source": [
    "avg_speed_miles_per_hour(distance_in_miles, time_in_hours)"
   ]
  },
  {
   "cell_type": "code",
   "execution_count": null,
   "metadata": {},
   "outputs": [],
   "source": []
  }
 ],
 "metadata": {
  "kernelspec": {
   "display_name": "Python 3",
   "language": "python",
   "name": "python3"
  },
  "language_info": {
   "codemirror_mode": {
    "name": "ipython",
    "version": 3
   },
   "file_extension": ".py",
   "mimetype": "text/x-python",
   "name": "python",
   "nbconvert_exporter": "python",
   "pygments_lexer": "ipython3",
   "version": "3.7.1"
  }
 },
 "nbformat": 4,
 "nbformat_minor": 2
}
